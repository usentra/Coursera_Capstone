{
    "cells": [
        {
            "cell_type": "markdown",
            "metadata": {
                "collapsed": true
            },
            "source": "### Capstone Project - Car collisions severity, weather, and road conditions"
        },
        {
            "cell_type": "markdown",
            "metadata": {},
            "source": "### Introduction\nCar collisions can be caused by a variety of elements by different scopes. With the dataset in this study, two important factors - weather and road conditions are further analyzed in terms of their impact on the severity of a car collisions. Afterwards, the machine learning model Logistic Regression will be further deployed and evaluated for the respective accuracy level."
        },
        {
            "cell_type": "markdown",
            "metadata": {},
            "source": "### Data Retrieval"
        },
        {
            "cell_type": "code",
            "execution_count": 1,
            "metadata": {},
            "outputs": [
                {
                    "name": "stdout",
                    "output_type": "stream",
                    "text": "--2020-08-30 19:07:42--  https://s3.us.cloud-object-storage.appdomain.cloud/cf-courses-data/CognitiveClass/DP0701EN/version-2/Data-Collisions.csv\nResolving s3.us.cloud-object-storage.appdomain.cloud (s3.us.cloud-object-storage.appdomain.cloud)... 67.228.254.196\nConnecting to s3.us.cloud-object-storage.appdomain.cloud (s3.us.cloud-object-storage.appdomain.cloud)|67.228.254.196|:443... connected.\nHTTP request sent, awaiting response... 200 OK\nLength: 73917638 (70M) [text/csv]\nSaving to: \u2018Data_Collision.csv\u2019\n\n100%[======================================>] 73,917,638   936KB/s   in 57s    \n\n2020-08-30 19:08:40 (1.24 MB/s) - \u2018Data_Collision.csv\u2019 saved [73917638/73917638]\n\n"
                }
            ],
            "source": "import pandas as pd\nimport numpy as np\nimport matplotlib as mpl\n\n!wget -O Data_Collision.csv https://s3.us.cloud-object-storage.appdomain.cloud/cf-courses-data/CognitiveClass/DP0701EN/version-2/Data-Collisions.csv\n"
        },
        {
            "cell_type": "code",
            "execution_count": 2,
            "metadata": {},
            "outputs": [
                {
                    "name": "stderr",
                    "output_type": "stream",
                    "text": "/opt/conda/envs/Python36/lib/python3.6/site-packages/IPython/core/interactiveshell.py:3020: DtypeWarning: Columns (33) have mixed types. Specify dtype option on import or set low_memory=False.\n  interactivity=interactivity, compiler=compiler, result=result)\n"
                },
                {
                    "data": {
                        "text/html": "<div>\n<style scoped>\n    .dataframe tbody tr th:only-of-type {\n        vertical-align: middle;\n    }\n\n    .dataframe tbody tr th {\n        vertical-align: top;\n    }\n\n    .dataframe thead th {\n        text-align: right;\n    }\n</style>\n<table border=\"1\" class=\"dataframe\">\n  <thead>\n    <tr style=\"text-align: right;\">\n      <th></th>\n      <th>SEVERITYCODE</th>\n      <th>X</th>\n      <th>Y</th>\n      <th>OBJECTID</th>\n      <th>INCKEY</th>\n      <th>COLDETKEY</th>\n      <th>REPORTNO</th>\n      <th>STATUS</th>\n      <th>ADDRTYPE</th>\n      <th>INTKEY</th>\n      <th>...</th>\n      <th>ROADCOND</th>\n      <th>LIGHTCOND</th>\n      <th>PEDROWNOTGRNT</th>\n      <th>SDOTCOLNUM</th>\n      <th>SPEEDING</th>\n      <th>ST_COLCODE</th>\n      <th>ST_COLDESC</th>\n      <th>SEGLANEKEY</th>\n      <th>CROSSWALKKEY</th>\n      <th>HITPARKEDCAR</th>\n    </tr>\n  </thead>\n  <tbody>\n    <tr>\n      <th>0</th>\n      <td>2</td>\n      <td>-122.323148</td>\n      <td>47.703140</td>\n      <td>1</td>\n      <td>1307</td>\n      <td>1307</td>\n      <td>3502005</td>\n      <td>Matched</td>\n      <td>Intersection</td>\n      <td>37475.0</td>\n      <td>...</td>\n      <td>Wet</td>\n      <td>Daylight</td>\n      <td>NaN</td>\n      <td>NaN</td>\n      <td>NaN</td>\n      <td>10</td>\n      <td>Entering at angle</td>\n      <td>0</td>\n      <td>0</td>\n      <td>N</td>\n    </tr>\n    <tr>\n      <th>1</th>\n      <td>1</td>\n      <td>-122.347294</td>\n      <td>47.647172</td>\n      <td>2</td>\n      <td>52200</td>\n      <td>52200</td>\n      <td>2607959</td>\n      <td>Matched</td>\n      <td>Block</td>\n      <td>NaN</td>\n      <td>...</td>\n      <td>Wet</td>\n      <td>Dark - Street Lights On</td>\n      <td>NaN</td>\n      <td>6354039.0</td>\n      <td>NaN</td>\n      <td>11</td>\n      <td>From same direction - both going straight - bo...</td>\n      <td>0</td>\n      <td>0</td>\n      <td>N</td>\n    </tr>\n    <tr>\n      <th>2</th>\n      <td>1</td>\n      <td>-122.334540</td>\n      <td>47.607871</td>\n      <td>3</td>\n      <td>26700</td>\n      <td>26700</td>\n      <td>1482393</td>\n      <td>Matched</td>\n      <td>Block</td>\n      <td>NaN</td>\n      <td>...</td>\n      <td>Dry</td>\n      <td>Daylight</td>\n      <td>NaN</td>\n      <td>4323031.0</td>\n      <td>NaN</td>\n      <td>32</td>\n      <td>One parked--one moving</td>\n      <td>0</td>\n      <td>0</td>\n      <td>N</td>\n    </tr>\n    <tr>\n      <th>3</th>\n      <td>1</td>\n      <td>-122.334803</td>\n      <td>47.604803</td>\n      <td>4</td>\n      <td>1144</td>\n      <td>1144</td>\n      <td>3503937</td>\n      <td>Matched</td>\n      <td>Block</td>\n      <td>NaN</td>\n      <td>...</td>\n      <td>Dry</td>\n      <td>Daylight</td>\n      <td>NaN</td>\n      <td>NaN</td>\n      <td>NaN</td>\n      <td>23</td>\n      <td>From same direction - all others</td>\n      <td>0</td>\n      <td>0</td>\n      <td>N</td>\n    </tr>\n    <tr>\n      <th>4</th>\n      <td>2</td>\n      <td>-122.306426</td>\n      <td>47.545739</td>\n      <td>5</td>\n      <td>17700</td>\n      <td>17700</td>\n      <td>1807429</td>\n      <td>Matched</td>\n      <td>Intersection</td>\n      <td>34387.0</td>\n      <td>...</td>\n      <td>Wet</td>\n      <td>Daylight</td>\n      <td>NaN</td>\n      <td>4028032.0</td>\n      <td>NaN</td>\n      <td>10</td>\n      <td>Entering at angle</td>\n      <td>0</td>\n      <td>0</td>\n      <td>N</td>\n    </tr>\n  </tbody>\n</table>\n<p>5 rows \u00d7 38 columns</p>\n</div>",
                        "text/plain": "   SEVERITYCODE           X          Y  OBJECTID  INCKEY  COLDETKEY REPORTNO  \\\n0             2 -122.323148  47.703140         1    1307       1307  3502005   \n1             1 -122.347294  47.647172         2   52200      52200  2607959   \n2             1 -122.334540  47.607871         3   26700      26700  1482393   \n3             1 -122.334803  47.604803         4    1144       1144  3503937   \n4             2 -122.306426  47.545739         5   17700      17700  1807429   \n\n    STATUS      ADDRTYPE   INTKEY  ... ROADCOND                LIGHTCOND  \\\n0  Matched  Intersection  37475.0  ...      Wet                 Daylight   \n1  Matched         Block      NaN  ...      Wet  Dark - Street Lights On   \n2  Matched         Block      NaN  ...      Dry                 Daylight   \n3  Matched         Block      NaN  ...      Dry                 Daylight   \n4  Matched  Intersection  34387.0  ...      Wet                 Daylight   \n\n  PEDROWNOTGRNT  SDOTCOLNUM SPEEDING ST_COLCODE  \\\n0           NaN         NaN      NaN         10   \n1           NaN   6354039.0      NaN         11   \n2           NaN   4323031.0      NaN         32   \n3           NaN         NaN      NaN         23   \n4           NaN   4028032.0      NaN         10   \n\n                                          ST_COLDESC  SEGLANEKEY  \\\n0                                  Entering at angle           0   \n1  From same direction - both going straight - bo...           0   \n2                             One parked--one moving           0   \n3                   From same direction - all others           0   \n4                                  Entering at angle           0   \n\n   CROSSWALKKEY  HITPARKEDCAR  \n0             0             N  \n1             0             N  \n2             0             N  \n3             0             N  \n4             0             N  \n\n[5 rows x 38 columns]"
                    },
                    "execution_count": 2,
                    "metadata": {},
                    "output_type": "execute_result"
                }
            ],
            "source": "df=pd.read_csv(\"Data_Collision.csv\")\ndf.head()"
        },
        {
            "cell_type": "markdown",
            "metadata": {},
            "source": "### Data Balancing"
        },
        {
            "cell_type": "code",
            "execution_count": 3,
            "metadata": {},
            "outputs": [
                {
                    "data": {
                        "text/plain": "1    136485\n2     58188\nName: SEVERITYCODE, dtype: int64"
                    },
                    "execution_count": 3,
                    "metadata": {},
                    "output_type": "execute_result"
                }
            ],
            "source": "df['SEVERITYCODE'].value_counts()"
        },
        {
            "cell_type": "code",
            "execution_count": 4,
            "metadata": {},
            "outputs": [
                {
                    "data": {
                        "text/plain": "2    58188\n1    58188\nName: SEVERITYCODE, dtype: int64"
                    },
                    "execution_count": 4,
                    "metadata": {},
                    "output_type": "execute_result"
                }
            ],
            "source": "from sklearn.utils import resample\n\ndf_majority = df[df.SEVERITYCODE==1]\ndf_minority = df[df.SEVERITYCODE==2]\n \ndf_majority_downsampled = resample(df_majority, \n                                 replace=True,    \n                                 n_samples=58188,  \n                                 random_state=123)\n \ndf_downsampled = pd.concat([df_majority_downsampled, df_minority])\n \ndf_downsampled.SEVERITYCODE.value_counts()"
        },
        {
            "cell_type": "code",
            "execution_count": 5,
            "metadata": {},
            "outputs": [
                {
                    "name": "stdout",
                    "output_type": "stream",
                    "text": "<class 'pandas.core.frame.DataFrame'>\nRangeIndex: 194673 entries, 0 to 194672\nData columns (total 3 columns):\nSEVERITYCODE    194673 non-null int64\nWEATHER         189592 non-null object\nROADCOND        189661 non-null object\ndtypes: int64(1), object(2)\nmemory usage: 4.5+ MB\n"
                }
            ],
            "source": "dfnew=df[['SEVERITYCODE','WEATHER','ROADCOND']]\ndfnew.head()\ndfnew.info()"
        },
        {
            "cell_type": "markdown",
            "metadata": {},
            "source": "### Feature Selection"
        },
        {
            "cell_type": "code",
            "execution_count": 6,
            "metadata": {},
            "outputs": [
                {
                    "data": {
                        "text/html": "<div>\n<style scoped>\n    .dataframe tbody tr th:only-of-type {\n        vertical-align: middle;\n    }\n\n    .dataframe tbody tr th {\n        vertical-align: top;\n    }\n\n    .dataframe thead th {\n        text-align: right;\n    }\n</style>\n<table border=\"1\" class=\"dataframe\">\n  <thead>\n    <tr style=\"text-align: right;\">\n      <th></th>\n      <th>Blowing Sand/Dirt</th>\n      <th>Clear</th>\n      <th>Fog/Smog/Smoke</th>\n      <th>Other</th>\n      <th>Overcast</th>\n      <th>Partly Cloudy</th>\n      <th>Raining</th>\n      <th>Severe Crosswind</th>\n      <th>Sleet/Hail/Freezing Rain</th>\n      <th>Snowing</th>\n      <th>Unknown</th>\n      <th>Dry</th>\n      <th>Ice</th>\n      <th>Oil</th>\n      <th>Other</th>\n      <th>Sand/Mud/Dirt</th>\n      <th>Snow/Slush</th>\n      <th>Standing Water</th>\n      <th>Unknown</th>\n      <th>Wet</th>\n    </tr>\n  </thead>\n  <tbody>\n    <tr>\n      <th>0</th>\n      <td>0</td>\n      <td>0</td>\n      <td>0</td>\n      <td>0</td>\n      <td>1</td>\n      <td>0</td>\n      <td>0</td>\n      <td>0</td>\n      <td>0</td>\n      <td>0</td>\n      <td>0</td>\n      <td>0</td>\n      <td>0</td>\n      <td>0</td>\n      <td>0</td>\n      <td>0</td>\n      <td>0</td>\n      <td>0</td>\n      <td>0</td>\n      <td>1</td>\n    </tr>\n    <tr>\n      <th>1</th>\n      <td>0</td>\n      <td>0</td>\n      <td>0</td>\n      <td>0</td>\n      <td>0</td>\n      <td>0</td>\n      <td>1</td>\n      <td>0</td>\n      <td>0</td>\n      <td>0</td>\n      <td>0</td>\n      <td>0</td>\n      <td>0</td>\n      <td>0</td>\n      <td>0</td>\n      <td>0</td>\n      <td>0</td>\n      <td>0</td>\n      <td>0</td>\n      <td>1</td>\n    </tr>\n    <tr>\n      <th>2</th>\n      <td>0</td>\n      <td>0</td>\n      <td>0</td>\n      <td>0</td>\n      <td>1</td>\n      <td>0</td>\n      <td>0</td>\n      <td>0</td>\n      <td>0</td>\n      <td>0</td>\n      <td>0</td>\n      <td>1</td>\n      <td>0</td>\n      <td>0</td>\n      <td>0</td>\n      <td>0</td>\n      <td>0</td>\n      <td>0</td>\n      <td>0</td>\n      <td>0</td>\n    </tr>\n    <tr>\n      <th>3</th>\n      <td>0</td>\n      <td>1</td>\n      <td>0</td>\n      <td>0</td>\n      <td>0</td>\n      <td>0</td>\n      <td>0</td>\n      <td>0</td>\n      <td>0</td>\n      <td>0</td>\n      <td>0</td>\n      <td>1</td>\n      <td>0</td>\n      <td>0</td>\n      <td>0</td>\n      <td>0</td>\n      <td>0</td>\n      <td>0</td>\n      <td>0</td>\n      <td>0</td>\n    </tr>\n    <tr>\n      <th>4</th>\n      <td>0</td>\n      <td>0</td>\n      <td>0</td>\n      <td>0</td>\n      <td>0</td>\n      <td>0</td>\n      <td>1</td>\n      <td>0</td>\n      <td>0</td>\n      <td>0</td>\n      <td>0</td>\n      <td>0</td>\n      <td>0</td>\n      <td>0</td>\n      <td>0</td>\n      <td>0</td>\n      <td>0</td>\n      <td>0</td>\n      <td>0</td>\n      <td>1</td>\n    </tr>\n  </tbody>\n</table>\n</div>",
                        "text/plain": "   Blowing Sand/Dirt  Clear  Fog/Smog/Smoke  Other  Overcast  Partly Cloudy  \\\n0                  0      0               0      0         1              0   \n1                  0      0               0      0         0              0   \n2                  0      0               0      0         1              0   \n3                  0      1               0      0         0              0   \n4                  0      0               0      0         0              0   \n\n   Raining  Severe Crosswind  Sleet/Hail/Freezing Rain  Snowing  Unknown  Dry  \\\n0        0                 0                         0        0        0    0   \n1        1                 0                         0        0        0    0   \n2        0                 0                         0        0        0    1   \n3        0                 0                         0        0        0    1   \n4        1                 0                         0        0        0    0   \n\n   Ice  Oil  Other  Sand/Mud/Dirt  Snow/Slush  Standing Water  Unknown  Wet  \n0    0    0      0              0           0               0        0    1  \n1    0    0      0              0           0               0        0    1  \n2    0    0      0              0           0               0        0    0  \n3    0    0      0              0           0               0        0    0  \n4    0    0      0              0           0               0        0    1  "
                    },
                    "execution_count": 6,
                    "metadata": {},
                    "output_type": "execute_result"
                }
            ],
            "source": "Feature = df[['WEATHER','ROADCOND']]\nFeature = pd.concat([Feature,pd.get_dummies(df['WEATHER'])], axis=1)\nFeature = pd.concat([Feature,pd.get_dummies(df['ROADCOND'])], axis=1)\nFeature.drop(['WEATHER','ROADCOND'], axis = 1,inplace=True)\nFeature.head()"
        },
        {
            "cell_type": "code",
            "execution_count": 7,
            "metadata": {},
            "outputs": [
                {
                    "data": {
                        "text/plain": "array([2, 1, 1, 1, 2])"
                    },
                    "execution_count": 7,
                    "metadata": {},
                    "output_type": "execute_result"
                }
            ],
            "source": "X = Feature\nX[0:5]\ny = df['SEVERITYCODE'].values\ny[0:5]"
        },
        {
            "cell_type": "markdown",
            "metadata": {},
            "source": "### Data Standardization"
        },
        {
            "cell_type": "code",
            "execution_count": 8,
            "metadata": {},
            "outputs": [
                {
                    "name": "stderr",
                    "output_type": "stream",
                    "text": "/opt/conda/envs/Python36/lib/python3.6/site-packages/sklearn/preprocessing/data.py:645: DataConversionWarning: Data with input dtype uint8 were all converted to float64 by StandardScaler.\n  return self.partial_fit(X, y)\n"
                },
                {
                    "data": {
                        "text/plain": "array([[-0.01696304, -1.15340914, -0.05414257, -0.06551471,  2.45445634,\n        -0.00506801, -0.45298634, -0.011333  , -0.02409974, -0.06841713,\n        -0.28988624, -1.33213439, -0.07905204, -0.01813462, -0.02604842,\n        -0.01963186, -0.07200071, -0.02431221, -0.28975087,  1.76085874],\n       [-0.01696304, -1.15340914, -0.05414257, -0.06551471, -0.4074222 ,\n        -0.00506801,  2.2075721 , -0.011333  , -0.02409974, -0.06841713,\n        -0.28988624, -1.33213439, -0.07905204, -0.01813462, -0.02604842,\n        -0.01963186, -0.07200071, -0.02431221, -0.28975087,  1.76085874],\n       [-0.01696304, -1.15340914, -0.05414257, -0.06551471,  2.45445634,\n        -0.00506801, -0.45298634, -0.011333  , -0.02409974, -0.06841713,\n        -0.28988624,  0.75067501, -0.07905204, -0.01813462, -0.02604842,\n        -0.01963186, -0.07200071, -0.02431221, -0.28975087, -0.56790473],\n       [-0.01696304,  0.86699503, -0.05414257, -0.06551471, -0.4074222 ,\n        -0.00506801, -0.45298634, -0.011333  , -0.02409974, -0.06841713,\n        -0.28988624,  0.75067501, -0.07905204, -0.01813462, -0.02604842,\n        -0.01963186, -0.07200071, -0.02431221, -0.28975087, -0.56790473],\n       [-0.01696304, -1.15340914, -0.05414257, -0.06551471, -0.4074222 ,\n        -0.00506801,  2.2075721 , -0.011333  , -0.02409974, -0.06841713,\n        -0.28988624, -1.33213439, -0.07905204, -0.01813462, -0.02604842,\n        -0.01963186, -0.07200071, -0.02431221, -0.28975087,  1.76085874]])"
                    },
                    "execution_count": 8,
                    "metadata": {},
                    "output_type": "execute_result"
                }
            ],
            "source": "from sklearn import preprocessing\n\nX = preprocessing.StandardScaler().fit(X).transform(X.astype(float))\nX[0:5]"
        },
        {
            "cell_type": "markdown",
            "metadata": {},
            "source": "### Train Test Split"
        },
        {
            "cell_type": "code",
            "execution_count": 9,
            "metadata": {},
            "outputs": [
                {
                    "name": "stdout",
                    "output_type": "stream",
                    "text": "Train set: (155738, 20) (155738,)\nTest set: (38935, 20) (38935,)\n"
                }
            ],
            "source": "from sklearn.model_selection import train_test_split\nX_train, X_test, y_train, y_test = train_test_split( X, y, test_size=0.2, random_state=4)\nprint ('Train set:', X_train.shape,  y_train.shape)\nprint ('Test set:', X_test.shape,  y_test.shape)"
        },
        {
            "cell_type": "markdown",
            "metadata": {},
            "source": "### Logistic Regression"
        },
        {
            "cell_type": "code",
            "execution_count": 23,
            "metadata": {},
            "outputs": [],
            "source": "from sklearn.linear_model import LogisticRegression \nfrom sklearn.metrics import log_loss\nimport matplotlib.pyplot as plt"
        },
        {
            "cell_type": "code",
            "execution_count": 24,
            "metadata": {},
            "outputs": [
                {
                    "name": "stdout",
                    "output_type": "stream",
                    "text": "Test 1: Accuracy at C = 0.1 when Solver = lbfgs is : 0.5883553079503667\n"
                },
                {
                    "name": "stderr",
                    "output_type": "stream",
                    "text": "/opt/conda/envs/Python36/lib/python3.6/site-packages/sklearn/linear_model/sag.py:334: ConvergenceWarning: The max_iter was reached which means the coef_ did not converge\n  \"the coef_ did not converge\", ConvergenceWarning)\n"
                },
                {
                    "name": "stdout",
                    "output_type": "stream",
                    "text": "Test 2: Accuracy at C = 0.1 when Solver = saga is : 0.5883537706372713\nTest 3: Accuracy at C = 0.1 when Solver = liblinear is : 0.588357072655139\nTest 4: Accuracy at C = 0.1 when Solver = newton-cg is : 0.5883554096487158\n"
                },
                {
                    "name": "stderr",
                    "output_type": "stream",
                    "text": "/opt/conda/envs/Python36/lib/python3.6/site-packages/sklearn/linear_model/sag.py:334: ConvergenceWarning: The max_iter was reached which means the coef_ did not converge\n  \"the coef_ did not converge\", ConvergenceWarning)\n"
                },
                {
                    "name": "stdout",
                    "output_type": "stream",
                    "text": "Test 5: Accuracy at C = 0.1 when Solver = sag is : 0.58835389837573\n\n\nTest 6: Accuracy at C = 0.01 when Solver = lbfgs is : 0.5883587534078697\n"
                },
                {
                    "name": "stderr",
                    "output_type": "stream",
                    "text": "/opt/conda/envs/Python36/lib/python3.6/site-packages/sklearn/linear_model/sag.py:334: ConvergenceWarning: The max_iter was reached which means the coef_ did not converge\n  \"the coef_ did not converge\", ConvergenceWarning)\n"
                },
                {
                    "name": "stdout",
                    "output_type": "stream",
                    "text": "Test 7: Accuracy at C = 0.01 when Solver = saga is : 0.588358608474673\nTest 8: Accuracy at C = 0.01 when Solver = liblinear is : 0.5883760819749968\nTest 9: Accuracy at C = 0.01 when Solver = newton-cg is : 0.5883587362791604\n"
                },
                {
                    "name": "stderr",
                    "output_type": "stream",
                    "text": "/opt/conda/envs/Python36/lib/python3.6/site-packages/sklearn/linear_model/sag.py:334: ConvergenceWarning: The max_iter was reached which means the coef_ did not converge\n  \"the coef_ did not converge\", ConvergenceWarning)\n"
                },
                {
                    "name": "stdout",
                    "output_type": "stream",
                    "text": "Test 10: Accuracy at C = 0.01 when Solver = sag is : 0.5883586614124134\n\n\nTest 11: Accuracy at C = 0.001 when Solver = lbfgs is : 0.5884326122352971\nTest 12: Accuracy at C = 0.001 when Solver = saga is : 0.5884328295178463\nTest 13: Accuracy at C = 0.001 when Solver = liblinear is : 0.5886999961940418\n"
                },
                {
                    "name": "stderr",
                    "output_type": "stream",
                    "text": "/opt/conda/envs/Python36/lib/python3.6/site-packages/scipy/optimize/linesearch.py:313: LineSearchWarning: The line search algorithm did not converge\n  warn('The line search algorithm did not converge', LineSearchWarning)\n/opt/conda/envs/Python36/lib/python3.6/site-packages/sklearn/utils/optimize.py:195: UserWarning: Line Search failed\n  warnings.warn('Line Search failed')\n"
                },
                {
                    "name": "stdout",
                    "output_type": "stream",
                    "text": "Test 14: Accuracy at C = 0.001 when Solver = newton-cg is : 0.5884327483155763\nTest 15: Accuracy at C = 0.001 when Solver = sag is : 0.5884327615905889\n\n\n"
                }
            ],
            "source": "solvers = ['lbfgs', 'saga', 'liblinear', 'newton-cg', 'sag']\nregularization_val = [0.1, 0.01, 0.001]\nindex = []\naccuracy_score = []\niterations = 0\nfor index1, c in enumerate(regularization_val):\n    for index2, solver in enumerate(solvers):\n        index.append(index1 + index2 *5)\n        iterations +=1\n        lr_model = LogisticRegression(C = c, solver = solver)\n        lr_model.fit(X_train, y_train)\n        lr_yhat = lr_model.predict(X_test)\n        y_prob = lr_model.predict_proba(X_test)\n        print('Test {}: Accuracy at C = {} when Solver = {} is : {}'.format(iterations, c, solver, log_loss(y_test, y_prob) ))\n        accuracy_score.append(log_loss(y_test, y_prob))                        \n    print('\\n')"
        },
        {
            "cell_type": "code",
            "execution_count": 25,
            "metadata": {},
            "outputs": [
                {
                    "data": {
                        "text/plain": "Text(0, 0.5, 'Testing Accuracy')"
                    },
                    "execution_count": 25,
                    "metadata": {},
                    "output_type": "execute_result"
                },
                {
                    "data": {
                        "image/png": "[encoded data removed]",
                        "text/plain": "<Figure size 432x288 with 1 Axes>"
                    },
                    "metadata": {
                        "needs_background": "light"
                    },
                    "output_type": "display_data"
                }
            ],
            "source": "lr_prob=lr_model.predict_proba(X_test)\nlog_loss(y_test, lr_prob)\nplt.plot(index, accuracy_score)\nplt.xlabel('Parameter Value')\nplt.ylabel('Testing Accuracy')"
        },
        {
            "cell_type": "code",
            "execution_count": 26,
            "metadata": {},
            "outputs": [
                {
                    "data": {
                        "text/plain": "LogisticRegression(C=0.001, class_weight=None, dual=False, fit_intercept=True,\n          intercept_scaling=1, max_iter=100, multi_class='warn',\n          n_jobs=None, penalty='l2', random_state=None, solver='liblinear',\n          tol=0.0001, verbose=0, warm_start=False)"
                    },
                    "execution_count": 26,
                    "metadata": {},
                    "output_type": "execute_result"
                }
            ],
            "source": "from sklearn.linear_model import LogisticRegression \n\nlr_model = LogisticRegression(C = 0.001, solver = 'liblinear')\nlr_model.fit(X_train, y_train)\nlr_model"
        },
        {
            "cell_type": "markdown",
            "metadata": {},
            "source": "### Model Evaluation Using Test Set"
        },
        {
            "cell_type": "code",
            "execution_count": 27,
            "metadata": {},
            "outputs": [],
            "source": "from sklearn.metrics import log_loss"
        },
        {
            "cell_type": "code",
            "execution_count": 36,
            "metadata": {},
            "outputs": [
                {
                    "name": "stderr",
                    "output_type": "stream",
                    "text": "/opt/conda/envs/Python36/lib/python3.6/site-packages/IPython/core/interactiveshell.py:3020: DtypeWarning: Columns (33) have mixed types. Specify dtype option on import or set low_memory=False.\n  interactivity=interactivity, compiler=compiler, result=result)\n"
                },
                {
                    "name": "stdout",
                    "output_type": "stream",
                    "text": "0.7 0.58\n"
                },
                {
                    "name": "stderr",
                    "output_type": "stream",
                    "text": "/opt/conda/envs/Python36/lib/python3.6/site-packages/sklearn/preprocessing/data.py:645: DataConversionWarning: Data with input dtype uint8 were all converted to float64 by StandardScaler.\n  return self.partial_fit(X, y)\n/opt/conda/envs/Python36/lib/python3.6/site-packages/ipykernel/__main__.py:11: DataConversionWarning: Data with input dtype uint8 were all converted to float64 by StandardScaler.\n"
                }
            ],
            "source": "test_df = pd.read_csv(\"Data_Collision.csv\")\ntest_df.head()\n\ntest_feature = test_df[['WEATHER','ROADCOND']]\ntest_feature = pd.concat([test_feature,pd.get_dummies(test_df['WEATHER'])], axis=1)\ntest_feature = pd.concat([test_feature,pd.get_dummies(test_df['ROADCOND'])], axis=1)\n\ntest_feature.drop(['WEATHER','ROADCOND'], axis = 1,inplace=True)\n \nX_S_test= test_feature\nX_S_test = preprocessing.StandardScaler().fit(X_S_test).transform(X_S_test)\ny_S_test = test_df['SEVERITYCODE'].values\n\nlr_yhat = lr_model.predict(X_S_test)\nj4 = round(jaccard_similarity_score(y_S_test, lr_yhat), 2)\nf4 = round(f1_score(y_S_test, lr_yhat, average = 'weighted'), 2)\n\n\nprint (j4,f4)\n"
        },
        {
            "cell_type": "code",
            "execution_count": 37,
            "metadata": {},
            "outputs": [
                {
                    "data": {
                        "text/plain": "[0.59]"
                    },
                    "execution_count": 37,
                    "metadata": {},
                    "output_type": "execute_result"
                }
            ],
            "source": "from sklearn.metrics import log_loss\nlr_prob = lr_model.predict_proba(X_S_test)\nll_list = [ round(log_loss(y_S_test, lr_prob), 2)]\nll_list"
        },
        {
            "cell_type": "markdown",
            "metadata": {},
            "source": "### Classification Accuracy"
        },
        {
            "cell_type": "markdown",
            "metadata": {},
            "source": "| Algorithm          | Jaccard | F1-score | LogLoss |\n|--------------------|---------|----------|---------|\n|Logistic Regression | 0.7     | 0.58     | 0.59    |"
        },
        {
            "cell_type": "code",
            "execution_count": null,
            "metadata": {},
            "outputs": [],
            "source": ""
        }
    ],
    "metadata": {
        "kernelspec": {
            "display_name": "Python 3.6",
            "language": "python",
            "name": "python3"
        },
        "language_info": {
            "codemirror_mode": {
                "name": "ipython",
                "version": 3
            },
            "file_extension": ".py",
            "mimetype": "text/x-python",
            "name": "python",
            "nbconvert_exporter": "python",
            "pygments_lexer": "ipython3",
            "version": "3.6.9"
        }
    },
    "nbformat": 4,
    "nbformat_minor": 1
}